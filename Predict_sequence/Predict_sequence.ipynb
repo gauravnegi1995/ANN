{
  "nbformat": 4,
  "nbformat_minor": 0,
  "metadata": {
    "colab": {
      "name": "Predict_sequence.ipynb",
      "provenance": []
    },
    "kernelspec": {
      "name": "python3",
      "display_name": "Python 3"
    },
    "language_info": {
      "name": "python"
    }
  },
  "cells": [
    {
      "cell_type": "code",
      "metadata": {
        "colab": {
          "base_uri": "https://localhost:8080/",
          "height": 35
        },
        "id": "Q_R-SPeX2Ke1",
        "outputId": "9d384618-1e79-4871-d349-71f6a2218fe7"
      },
      "source": [
        "import tensorflow as tf\n",
        "tf.keras.__version__"
      ],
      "execution_count": 11,
      "outputs": [
        {
          "output_type": "execute_result",
          "data": {
            "application/vnd.google.colaboratory.intrinsic+json": {
              "type": "string"
            },
            "text/plain": [
              "'2.5.0'"
            ]
          },
          "metadata": {
            "tags": []
          },
          "execution_count": 11
        }
      ]
    },
    {
      "cell_type": "code",
      "metadata": {
        "colab": {
          "base_uri": "https://localhost:8080/"
        },
        "id": "ss52QT2e2OK4",
        "outputId": "3dea402a-2f48-4c41-82f3-426024ea3d26"
      },
      "source": [
        "model = tf.keras.models.Sequential()\n",
        "model.add(tf.keras.layers.Dense(8, input_dim=1, kernel_initializer='normal', activation='relu',name='hidden_layer_1'))\n",
        "model.add(tf.keras.layers.Dense(16, activation='relu'))\n",
        "model.add(tf.keras.layers.Dense(1, activation='linear',name='output_layer'))\n",
        "model.summary()"
      ],
      "execution_count": 24,
      "outputs": [
        {
          "output_type": "stream",
          "text": [
            "Model: \"sequential_3\"\n",
            "_________________________________________________________________\n",
            "Layer (type)                 Output Shape              Param #   \n",
            "=================================================================\n",
            "hidden_layer_1 (Dense)       (None, 8)                 16        \n",
            "_________________________________________________________________\n",
            "dense_3 (Dense)              (None, 16)                144       \n",
            "_________________________________________________________________\n",
            "output_layer (Dense)         (None, 1)                 17        \n",
            "=================================================================\n",
            "Total params: 177\n",
            "Trainable params: 177\n",
            "Non-trainable params: 0\n",
            "_________________________________________________________________\n"
          ],
          "name": "stdout"
        }
      ]
    },
    {
      "cell_type": "code",
      "metadata": {
        "id": "ytZLJgXI2SNc"
      },
      "source": [
        "model.compile(loss='mse', optimizer='adam', metrics=['mse','mae'])\n",
        "\n"
      ],
      "execution_count": 25,
      "outputs": []
    },
    {
      "cell_type": "code",
      "metadata": {
        "colab": {
          "base_uri": "https://localhost:8080/"
        },
        "id": "u5L_dKnK2ViU",
        "outputId": "789b7385-53fe-4599-cfc1-7d7c2b70b050"
      },
      "source": [
        "import numpy as np\n",
        "x=np.array([[1,2,3,4,5,6,7,8,9,10,11,12,13,14,15,16,20]],dtype=float).reshape(17,1)\n",
        "y=np.array([[1,4,9,16,25,36,49,64,81,100,121,144,169,196,225,256,400]],dtype=float).reshape(17,1)\n",
        "\n",
        "y.shape"
      ],
      "execution_count": 26,
      "outputs": [
        {
          "output_type": "execute_result",
          "data": {
            "text/plain": [
              "(17, 1)"
            ]
          },
          "metadata": {
            "tags": []
          },
          "execution_count": 26
        }
      ]
    },
    {
      "cell_type": "code",
      "metadata": {
        "id": "XgKM0DAav8Hh"
      },
      "source": [
        "from sklearn.preprocessing import StandardScaler     ##if you will not normalize loss will be very high\n",
        "scaler=StandardScaler()\n",
        "x=scaler.fit_transform(x)\n",
        "y=scaler.fit_transform(y)"
      ],
      "execution_count": 27,
      "outputs": []
    },
    {
      "cell_type": "code",
      "metadata": {
        "colab": {
          "base_uri": "https://localhost:8080/"
        },
        "id": "ZdPYvAIL2XUs",
        "outputId": "56bb921e-45bf-435d-eb75-57d51b1383c6"
      },
      "source": [
        "model.fit(x,y,epochs=100,verbose=1)"
      ],
      "execution_count": 28,
      "outputs": [
        {
          "output_type": "stream",
          "text": [
            "Epoch 1/100\n",
            "1/1 [==============================] - 0s 370ms/step - loss: 0.9634 - mse: 0.9634 - mae: 0.7973\n",
            "Epoch 2/100\n",
            "1/1 [==============================] - 0s 5ms/step - loss: 0.9600 - mse: 0.9600 - mae: 0.7955\n",
            "Epoch 3/100\n",
            "1/1 [==============================] - 0s 6ms/step - loss: 0.9560 - mse: 0.9560 - mae: 0.7934\n",
            "Epoch 4/100\n",
            "1/1 [==============================] - 0s 5ms/step - loss: 0.9522 - mse: 0.9522 - mae: 0.7914\n",
            "Epoch 5/100\n",
            "1/1 [==============================] - 0s 6ms/step - loss: 0.9483 - mse: 0.9483 - mae: 0.7895\n",
            "Epoch 6/100\n",
            "1/1 [==============================] - 0s 7ms/step - loss: 0.9445 - mse: 0.9445 - mae: 0.7876\n",
            "Epoch 7/100\n",
            "1/1 [==============================] - 0s 4ms/step - loss: 0.9407 - mse: 0.9407 - mae: 0.7858\n",
            "Epoch 8/100\n",
            "1/1 [==============================] - 0s 5ms/step - loss: 0.9370 - mse: 0.9370 - mae: 0.7839\n",
            "Epoch 9/100\n",
            "1/1 [==============================] - 0s 7ms/step - loss: 0.9331 - mse: 0.9331 - mae: 0.7820\n",
            "Epoch 10/100\n",
            "1/1 [==============================] - 0s 6ms/step - loss: 0.9291 - mse: 0.9291 - mae: 0.7800\n",
            "Epoch 11/100\n",
            "1/1 [==============================] - 0s 4ms/step - loss: 0.9251 - mse: 0.9251 - mae: 0.7780\n",
            "Epoch 12/100\n",
            "1/1 [==============================] - 0s 4ms/step - loss: 0.9210 - mse: 0.9210 - mae: 0.7760\n",
            "Epoch 13/100\n",
            "1/1 [==============================] - 0s 6ms/step - loss: 0.9167 - mse: 0.9167 - mae: 0.7738\n",
            "Epoch 14/100\n",
            "1/1 [==============================] - 0s 5ms/step - loss: 0.9123 - mse: 0.9123 - mae: 0.7717\n",
            "Epoch 15/100\n",
            "1/1 [==============================] - 0s 4ms/step - loss: 0.9079 - mse: 0.9079 - mae: 0.7695\n",
            "Epoch 16/100\n",
            "1/1 [==============================] - 0s 6ms/step - loss: 0.9036 - mse: 0.9036 - mae: 0.7673\n",
            "Epoch 17/100\n",
            "1/1 [==============================] - 0s 4ms/step - loss: 0.8994 - mse: 0.8994 - mae: 0.7652\n",
            "Epoch 18/100\n",
            "1/1 [==============================] - 0s 4ms/step - loss: 0.8951 - mse: 0.8951 - mae: 0.7631\n",
            "Epoch 19/100\n",
            "1/1 [==============================] - 0s 7ms/step - loss: 0.8909 - mse: 0.8909 - mae: 0.7610\n",
            "Epoch 20/100\n",
            "1/1 [==============================] - 0s 3ms/step - loss: 0.8865 - mse: 0.8865 - mae: 0.7588\n",
            "Epoch 21/100\n",
            "1/1 [==============================] - 0s 5ms/step - loss: 0.8821 - mse: 0.8821 - mae: 0.7567\n",
            "Epoch 22/100\n",
            "1/1 [==============================] - 0s 4ms/step - loss: 0.8777 - mse: 0.8777 - mae: 0.7545\n",
            "Epoch 23/100\n",
            "1/1 [==============================] - 0s 4ms/step - loss: 0.8733 - mse: 0.8733 - mae: 0.7523\n",
            "Epoch 24/100\n",
            "1/1 [==============================] - 0s 7ms/step - loss: 0.8688 - mse: 0.8688 - mae: 0.7501\n",
            "Epoch 25/100\n",
            "1/1 [==============================] - 0s 5ms/step - loss: 0.8643 - mse: 0.8643 - mae: 0.7479\n",
            "Epoch 26/100\n",
            "1/1 [==============================] - 0s 4ms/step - loss: 0.8598 - mse: 0.8598 - mae: 0.7456\n",
            "Epoch 27/100\n",
            "1/1 [==============================] - 0s 4ms/step - loss: 0.8552 - mse: 0.8552 - mae: 0.7434\n",
            "Epoch 28/100\n",
            "1/1 [==============================] - 0s 4ms/step - loss: 0.8506 - mse: 0.8506 - mae: 0.7411\n",
            "Epoch 29/100\n",
            "1/1 [==============================] - 0s 6ms/step - loss: 0.8459 - mse: 0.8459 - mae: 0.7388\n",
            "Epoch 30/100\n",
            "1/1 [==============================] - 0s 4ms/step - loss: 0.8413 - mse: 0.8413 - mae: 0.7366\n",
            "Epoch 31/100\n",
            "1/1 [==============================] - 0s 5ms/step - loss: 0.8365 - mse: 0.8365 - mae: 0.7343\n",
            "Epoch 32/100\n",
            "1/1 [==============================] - 0s 4ms/step - loss: 0.8318 - mse: 0.8318 - mae: 0.7319\n",
            "Epoch 33/100\n",
            "1/1 [==============================] - 0s 4ms/step - loss: 0.8270 - mse: 0.8270 - mae: 0.7296\n",
            "Epoch 34/100\n",
            "1/1 [==============================] - 0s 5ms/step - loss: 0.8222 - mse: 0.8222 - mae: 0.7272\n",
            "Epoch 35/100\n",
            "1/1 [==============================] - 0s 5ms/step - loss: 0.8173 - mse: 0.8173 - mae: 0.7248\n",
            "Epoch 36/100\n",
            "1/1 [==============================] - 0s 5ms/step - loss: 0.8123 - mse: 0.8123 - mae: 0.7223\n",
            "Epoch 37/100\n",
            "1/1 [==============================] - 0s 5ms/step - loss: 0.8073 - mse: 0.8073 - mae: 0.7198\n",
            "Epoch 38/100\n",
            "1/1 [==============================] - 0s 4ms/step - loss: 0.8023 - mse: 0.8023 - mae: 0.7173\n",
            "Epoch 39/100\n",
            "1/1 [==============================] - 0s 5ms/step - loss: 0.7972 - mse: 0.7972 - mae: 0.7147\n",
            "Epoch 40/100\n",
            "1/1 [==============================] - 0s 4ms/step - loss: 0.7921 - mse: 0.7921 - mae: 0.7121\n",
            "Epoch 41/100\n",
            "1/1 [==============================] - 0s 4ms/step - loss: 0.7869 - mse: 0.7869 - mae: 0.7094\n",
            "Epoch 42/100\n",
            "1/1 [==============================] - 0s 4ms/step - loss: 0.7816 - mse: 0.7816 - mae: 0.7067\n",
            "Epoch 43/100\n",
            "1/1 [==============================] - 0s 4ms/step - loss: 0.7763 - mse: 0.7763 - mae: 0.7040\n",
            "Epoch 44/100\n",
            "1/1 [==============================] - 0s 7ms/step - loss: 0.7709 - mse: 0.7709 - mae: 0.7013\n",
            "Epoch 45/100\n",
            "1/1 [==============================] - 0s 5ms/step - loss: 0.7655 - mse: 0.7655 - mae: 0.6985\n",
            "Epoch 46/100\n",
            "1/1 [==============================] - 0s 6ms/step - loss: 0.7600 - mse: 0.7600 - mae: 0.6957\n",
            "Epoch 47/100\n",
            "1/1 [==============================] - 0s 6ms/step - loss: 0.7544 - mse: 0.7544 - mae: 0.6928\n",
            "Epoch 48/100\n",
            "1/1 [==============================] - 0s 6ms/step - loss: 0.7488 - mse: 0.7488 - mae: 0.6899\n",
            "Epoch 49/100\n",
            "1/1 [==============================] - 0s 6ms/step - loss: 0.7431 - mse: 0.7431 - mae: 0.6869\n",
            "Epoch 50/100\n",
            "1/1 [==============================] - 0s 6ms/step - loss: 0.7373 - mse: 0.7373 - mae: 0.6839\n",
            "Epoch 51/100\n",
            "1/1 [==============================] - 0s 6ms/step - loss: 0.7315 - mse: 0.7315 - mae: 0.6808\n",
            "Epoch 52/100\n",
            "1/1 [==============================] - 0s 4ms/step - loss: 0.7256 - mse: 0.7256 - mae: 0.6777\n",
            "Epoch 53/100\n",
            "1/1 [==============================] - 0s 6ms/step - loss: 0.7197 - mse: 0.7197 - mae: 0.6746\n",
            "Epoch 54/100\n",
            "1/1 [==============================] - 0s 7ms/step - loss: 0.7137 - mse: 0.7137 - mae: 0.6716\n",
            "Epoch 55/100\n",
            "1/1 [==============================] - 0s 4ms/step - loss: 0.7076 - mse: 0.7076 - mae: 0.6686\n",
            "Epoch 56/100\n",
            "1/1 [==============================] - 0s 6ms/step - loss: 0.7015 - mse: 0.7015 - mae: 0.6655\n",
            "Epoch 57/100\n",
            "1/1 [==============================] - 0s 7ms/step - loss: 0.6953 - mse: 0.6953 - mae: 0.6624\n",
            "Epoch 58/100\n",
            "1/1 [==============================] - 0s 7ms/step - loss: 0.6891 - mse: 0.6891 - mae: 0.6592\n",
            "Epoch 59/100\n",
            "1/1 [==============================] - 0s 4ms/step - loss: 0.6828 - mse: 0.6828 - mae: 0.6560\n",
            "Epoch 60/100\n",
            "1/1 [==============================] - 0s 8ms/step - loss: 0.6764 - mse: 0.6764 - mae: 0.6528\n",
            "Epoch 61/100\n",
            "1/1 [==============================] - 0s 5ms/step - loss: 0.6700 - mse: 0.6700 - mae: 0.6496\n",
            "Epoch 62/100\n",
            "1/1 [==============================] - 0s 7ms/step - loss: 0.6635 - mse: 0.6635 - mae: 0.6463\n",
            "Epoch 63/100\n",
            "1/1 [==============================] - 0s 4ms/step - loss: 0.6570 - mse: 0.6570 - mae: 0.6430\n",
            "Epoch 64/100\n",
            "1/1 [==============================] - 0s 7ms/step - loss: 0.6504 - mse: 0.6504 - mae: 0.6396\n",
            "Epoch 65/100\n",
            "1/1 [==============================] - 0s 8ms/step - loss: 0.6438 - mse: 0.6438 - mae: 0.6362\n",
            "Epoch 66/100\n",
            "1/1 [==============================] - 0s 6ms/step - loss: 0.6371 - mse: 0.6371 - mae: 0.6328\n",
            "Epoch 67/100\n",
            "1/1 [==============================] - 0s 8ms/step - loss: 0.6304 - mse: 0.6304 - mae: 0.6293\n",
            "Epoch 68/100\n",
            "1/1 [==============================] - 0s 4ms/step - loss: 0.6236 - mse: 0.6236 - mae: 0.6257\n",
            "Epoch 69/100\n",
            "1/1 [==============================] - 0s 5ms/step - loss: 0.6168 - mse: 0.6168 - mae: 0.6221\n",
            "Epoch 70/100\n",
            "1/1 [==============================] - 0s 7ms/step - loss: 0.6100 - mse: 0.6100 - mae: 0.6185\n",
            "Epoch 71/100\n",
            "1/1 [==============================] - 0s 7ms/step - loss: 0.6031 - mse: 0.6031 - mae: 0.6148\n",
            "Epoch 72/100\n",
            "1/1 [==============================] - 0s 4ms/step - loss: 0.5962 - mse: 0.5962 - mae: 0.6111\n",
            "Epoch 73/100\n",
            "1/1 [==============================] - 0s 7ms/step - loss: 0.5892 - mse: 0.5892 - mae: 0.6074\n",
            "Epoch 74/100\n",
            "1/1 [==============================] - 0s 5ms/step - loss: 0.5823 - mse: 0.5823 - mae: 0.6036\n",
            "Epoch 75/100\n",
            "1/1 [==============================] - 0s 9ms/step - loss: 0.5753 - mse: 0.5753 - mae: 0.5997\n",
            "Epoch 76/100\n",
            "1/1 [==============================] - 0s 4ms/step - loss: 0.5682 - mse: 0.5682 - mae: 0.5959\n",
            "Epoch 77/100\n",
            "1/1 [==============================] - 0s 7ms/step - loss: 0.5612 - mse: 0.5612 - mae: 0.5920\n",
            "Epoch 78/100\n",
            "1/1 [==============================] - 0s 4ms/step - loss: 0.5541 - mse: 0.5541 - mae: 0.5880\n",
            "Epoch 79/100\n",
            "1/1 [==============================] - 0s 4ms/step - loss: 0.5470 - mse: 0.5470 - mae: 0.5840\n",
            "Epoch 80/100\n",
            "1/1 [==============================] - 0s 10ms/step - loss: 0.5399 - mse: 0.5399 - mae: 0.5799\n",
            "Epoch 81/100\n",
            "1/1 [==============================] - 0s 4ms/step - loss: 0.5327 - mse: 0.5327 - mae: 0.5758\n",
            "Epoch 82/100\n",
            "1/1 [==============================] - 0s 6ms/step - loss: 0.5256 - mse: 0.5256 - mae: 0.5716\n",
            "Epoch 83/100\n",
            "1/1 [==============================] - 0s 5ms/step - loss: 0.5184 - mse: 0.5184 - mae: 0.5674\n",
            "Epoch 84/100\n",
            "1/1 [==============================] - 0s 8ms/step - loss: 0.5112 - mse: 0.5112 - mae: 0.5632\n",
            "Epoch 85/100\n",
            "1/1 [==============================] - 0s 4ms/step - loss: 0.5040 - mse: 0.5040 - mae: 0.5589\n",
            "Epoch 86/100\n",
            "1/1 [==============================] - 0s 4ms/step - loss: 0.4968 - mse: 0.4968 - mae: 0.5545\n",
            "Epoch 87/100\n",
            "1/1 [==============================] - 0s 24ms/step - loss: 0.4896 - mse: 0.4896 - mae: 0.5501\n",
            "Epoch 88/100\n",
            "1/1 [==============================] - 0s 5ms/step - loss: 0.4824 - mse: 0.4824 - mae: 0.5457\n",
            "Epoch 89/100\n",
            "1/1 [==============================] - 0s 8ms/step - loss: 0.4753 - mse: 0.4753 - mae: 0.5413\n",
            "Epoch 90/100\n",
            "1/1 [==============================] - 0s 5ms/step - loss: 0.4681 - mse: 0.4681 - mae: 0.5368\n",
            "Epoch 91/100\n",
            "1/1 [==============================] - 0s 5ms/step - loss: 0.4610 - mse: 0.4610 - mae: 0.5323\n",
            "Epoch 92/100\n",
            "1/1 [==============================] - 0s 6ms/step - loss: 0.4538 - mse: 0.4538 - mae: 0.5277\n",
            "Epoch 93/100\n",
            "1/1 [==============================] - 0s 7ms/step - loss: 0.4467 - mse: 0.4467 - mae: 0.5231\n",
            "Epoch 94/100\n",
            "1/1 [==============================] - 0s 7ms/step - loss: 0.4396 - mse: 0.4396 - mae: 0.5185\n",
            "Epoch 95/100\n",
            "1/1 [==============================] - 0s 5ms/step - loss: 0.4325 - mse: 0.4325 - mae: 0.5139\n",
            "Epoch 96/100\n",
            "1/1 [==============================] - 0s 14ms/step - loss: 0.4254 - mse: 0.4254 - mae: 0.5097\n",
            "Epoch 97/100\n",
            "1/1 [==============================] - 0s 5ms/step - loss: 0.4184 - mse: 0.4184 - mae: 0.5056\n",
            "Epoch 98/100\n",
            "1/1 [==============================] - 0s 6ms/step - loss: 0.4114 - mse: 0.4114 - mae: 0.5013\n",
            "Epoch 99/100\n",
            "1/1 [==============================] - 0s 19ms/step - loss: 0.4044 - mse: 0.4044 - mae: 0.4970\n",
            "Epoch 100/100\n",
            "1/1 [==============================] - 0s 16ms/step - loss: 0.3975 - mse: 0.3975 - mae: 0.4927\n"
          ],
          "name": "stdout"
        },
        {
          "output_type": "execute_result",
          "data": {
            "text/plain": [
              "<tensorflow.python.keras.callbacks.History at 0x7f9b585ad490>"
            ]
          },
          "metadata": {
            "tags": []
          },
          "execution_count": 28
        }
      ]
    },
    {
      "cell_type": "code",
      "metadata": {
        "colab": {
          "base_uri": "https://localhost:8080/"
        },
        "id": "s8XUiuQs2Z1f",
        "outputId": "1ec74e86-02ea-445b-d13c-2464c4831c88"
      },
      "source": [
        "model.predict([10])   ###900\n"
      ],
      "execution_count": 29,
      "outputs": [
        {
          "output_type": "execute_result",
          "data": {
            "text/plain": [
              "array([[3.4684079]], dtype=float32)"
            ]
          },
          "metadata": {
            "tags": []
          },
          "execution_count": 29
        }
      ]
    }
  ]
}